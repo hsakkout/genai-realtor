{
 "cells": [
  {
   "cell_type": "markdown",
   "id": "a108af04",
   "metadata": {},
   "source": [
    "This is a starter notebook for the project, you'll have to import the libraries you'll need, you can find a list of the ones available in this workspace in the requirements.txt file in this workspace. "
   ]
  },
  {
   "cell_type": "code",
   "execution_count": 31,
   "id": "6554fd4c",
   "metadata": {},
   "outputs": [],
   "source": [
    "import os\n",
    "\n",
    "os.environ[\"OPENAI_API_KEY\"] = \"voc-30237581412667733285796716cdfcba5865.61612652\"\n",
    "os.environ[\"OPENAI_API_BASE\"] = \"https://openai.vocareum.com/v1\"\n",
    "\n",
    "from langchain.chat_models import init_chat_model\n",
    "from langchain.prompts import ChatPromptTemplate\n"
   ]
  },
  {
   "cell_type": "markdown",
   "id": "da1623d6",
   "metadata": {},
   "source": [
    "1. Generate Listings"
   ]
  },
  {
   "cell_type": "code",
   "execution_count": 32,
   "id": "cf7b2752",
   "metadata": {},
   "outputs": [],
   "source": [
    "\n",
    "\n",
    "homes_gen_template = \"\"\"\n",
    "Generate CSV formatted descriptions for home listings. There should be one CSV header row at the top row, and then precisely {home_rows} home rows, to make a total of precisely {total_rows} rows in the CSV result.  \n",
    "The home descriptions should be interesting but also realistic, and display a broad range of homes catering to many different house purchaser tastes.\n",
    "Be creative and imaginative.  \n",
    "\n",
    "The CSV format is essential, and you must ensure all prices are between single quotes. \n",
    "\n",
    "Always include the following Columns in the CSV:\n",
    "- Neighborhood\n",
    "- Price\n",
    "- Bedrooms number\n",
    "- Bathrooms number\n",
    "- House Size in square feet\n",
    "- Detailed Description\n",
    "- Detailed Neighborhood Description\n",
    "\n",
    "\n",
    "EXAMPLE with precisely 2 home rows and 3 total rows in the CSV:\n",
    "Neighborhood,Price,Bedrooms,Bathrooms,House Size (sqft),Description,Neighborhood Description\n",
    "Sunnyvale,'650,000',4,3,'2,500',\"Discover your dream home in Sunnyvale! This stunning 4-bedroom, 3-bathroom residence features an expansive open floor plan, perfect for entertaining. The gourmet kitchen is equipped with stainless steel appliances and a large island, while the spacious living room boasts a cozy fireplace. Step outside to a beautifully landscaped backyard, ideal for summer barbecues and family gatherings. The master suite offers a private retreat with a luxurious en-suite bathroom and walk-in closet. Don't miss this opportunity to own a piece of paradise in Sunnyvale!\",\"Sunnyvale is a vibrant community known for its excellent schools and family-friendly atmosphere. With numerous parks, playgrounds, and recreational facilities, there's always something to do. The neighborhood hosts seasonal farmers' markets and community events, fostering a strong sense of belonging. Enjoy easy access to shopping, dining, and major highways, making it a convenient location for commuters.\"\n",
    "Maplewood,'1,200,000',5,4,'3,800',\"Welcome to this exquisite 5-bedroom, 4-bathroom estate in the prestigious Maplewood neighborhood. This luxurious home features high ceilings, elegant crown molding, and hardwood floors throughout. The chef's kitchen is a culinary delight, complete with granite countertops and a spacious pantry. The expansive master suite includes a spa-like bathroom and a private balcony overlooking the lush backyard. Enjoy movie nights in the dedicated home theater or host gatherings in the formal dining room. This home is a true masterpiece!\",\"Maplewood is an upscale neighborhood characterized by tree-lined streets and beautifully manicured lawns. Residents enjoy a peaceful suburban lifestyle while being just minutes away from fine dining, boutique shopping, and cultural attractions. The community is known for its top-rated schools and active neighborhood associations, which organize events and activities throughout the year. With easy access to public transportation and major highways, Maplewood offers the perfect blend of luxury and convenience.\"\n",
    "\"\"\"\n",
    "\n",
    "prompt = ChatPromptTemplate.from_template(homes_gen_template)\n"
   ]
  },
  {
   "cell_type": "code",
   "execution_count": 33,
   "id": "4b239752",
   "metadata": {},
   "outputs": [],
   "source": [
    "\n",
    "llm = init_chat_model(\"gpt-4o\", model_provider=\"openai\", temperature=0.0,max_tokens=12000)"
   ]
  },
  {
   "cell_type": "code",
   "execution_count": 34,
   "id": "8270b3a7",
   "metadata": {},
   "outputs": [],
   "source": [
    "chain = prompt | llm"
   ]
  },
  {
   "cell_type": "code",
   "execution_count": 46,
   "id": "c96d53b6",
   "metadata": {},
   "outputs": [
    {
     "name": "stdout",
     "output_type": "stream",
     "text": [
      "content='Neighborhood,Price,Bedrooms,Bathrooms,House Size (sqft),Description,Neighborhood Description\\nGreenfield,\\'450,000\\',3,2,\\'1,800\\',\"Charming 3-bedroom, 2-bathroom bungalow in the heart of Greenfield. This cozy home features a sunlit living room with hardwood floors and a vintage fireplace. The updated kitchen boasts quartz countertops and modern appliances. Enjoy the serene backyard with a garden and patio, perfect for relaxing evenings. The master bedroom offers a peaceful retreat with ample closet space. A perfect blend of classic charm and modern convenience awaits you in Greenfield!\",\"Greenfield is a quaint neighborhood known for its friendly community and lush green spaces. With several parks and walking trails, it\\'s a haven for outdoor enthusiasts. The area hosts regular community events, including art fairs and outdoor concerts. Greenfield\\'s local shops and cafes offer a unique, small-town feel while being conveniently close to urban amenities.\"\\nRiverside,\\'850,000\\',4,3,\\'2,900\\',\"Experience luxury living in this stunning 4-bedroom, 3-bathroom home in Riverside. The open-concept design features a grand foyer, a gourmet kitchen with a breakfast nook, and a spacious family room with a fireplace. The master suite includes a spa-like bathroom and a walk-in closet. Step outside to a private backyard oasis with a pool and a covered patio. This home is perfect for entertaining and family gatherings!\",\"Riverside is a picturesque neighborhood nestled along the river, offering scenic views and a tranquil atmosphere. Known for its excellent schools and community spirit, Riverside is a sought-after location for families. The area boasts a variety of recreational activities, including boating and hiking, and is home to several annual festivals and events.\"\\nBrookside,\\'320,000\\',2,1,\\'1,200\\',\"Adorable 2-bedroom, 1-bathroom cottage in the charming Brookside neighborhood. This home features a cozy living room with a bay window and a quaint kitchen with vintage cabinetry. The backyard is a gardener\\'s paradise, complete with a shed and mature fruit trees. Perfect for first-time buyers or those looking to downsize, this home offers comfort and character in a desirable location.\",\"Brookside is a charming neighborhood known for its historic homes and tree-lined streets. Residents enjoy a strong sense of community, with local events such as block parties and holiday parades. The neighborhood is within walking distance to local shops, cafes, and a popular farmers\\' market, making it a vibrant and convenient place to live.\"\\nLakeside,\\'1,500,000\\',5,5,\\'4,500\\',\"Welcome to this magnificent 5-bedroom, 5-bathroom estate in the exclusive Lakeside community. This home features a grand entrance, a formal living room with a fireplace, and a state-of-the-art kitchen with a large island. The master suite is a luxurious retreat with a private balcony and a spa-like bathroom. Enjoy the home theater, wine cellar, and expansive outdoor living space with a pool and lake views. This home is the epitome of luxury and elegance!\",\"Lakeside is an exclusive community known for its stunning lake views and luxurious homes. Residents enjoy a private clubhouse, tennis courts, and a golf course. The neighborhood is gated, offering privacy and security, and is located near upscale shopping and dining options. Lakeside is a prestigious address for those seeking a sophisticated lifestyle.\"\\nMeadowbrook,\\'600,000\\',4,2.5,\\'2,400\\',\"Discover this beautiful 4-bedroom, 2.5-bathroom home in the desirable Meadowbrook neighborhood. The open floor plan includes a spacious living room with vaulted ceilings and a modern kitchen with stainless steel appliances. The master suite features a walk-in closet and an en-suite bathroom. The backyard is perfect for entertaining, with a deck and a play area for children. This home offers comfort and style in a family-friendly community.\",\"Meadowbrook is a family-oriented neighborhood known for its excellent schools and community parks. The area offers a variety of recreational activities, including sports leagues and community events. Meadowbrook is conveniently located near shopping centers and restaurants, providing residents with easy access to amenities while maintaining a suburban feel.\"\\nHillcrest,\\'950,000\\',4,4,\\'3,200\\',\"Stunning 4-bedroom, 4-bathroom home in the prestigious Hillcrest neighborhood. This home features a grand entryway, a formal dining room, and a chef\\'s kitchen with high-end appliances. The master suite includes a luxurious bathroom and a private terrace. The backyard is an entertainer\\'s dream, with a pool, spa, and outdoor kitchen. This home offers elegance and sophistication in a prime location.\",\"Hillcrest is an upscale neighborhood known for its panoramic views and luxurious homes. The area is home to top-rated schools and offers a variety of cultural and recreational activities. Residents enjoy easy access to hiking trails, golf courses, and fine dining. Hillcrest is a sought-after community for those seeking a high-end lifestyle.\"\\nWillow Creek,\\'525,000\\',3,2,\\'1,900\\',\"Charming 3-bedroom, 2-bathroom home in the peaceful Willow Creek neighborhood. This home features a cozy living room with a fireplace, a modern kitchen with granite countertops, and a sunroom overlooking the backyard. The master bedroom offers a private retreat with an en-suite bathroom. The backyard is perfect for gardening and outdoor activities. This home is ideal for those seeking tranquility and comfort.\",\"Willow Creek is a serene neighborhood known for its natural beauty and friendly community. The area offers several parks, walking trails, and a community center with activities for all ages. Willow Creek is conveniently located near shopping and dining options, providing residents with a perfect blend of rural charm and urban convenience.\"\\nOakwood,\\'700,000\\',4,3,\\'2,600\\',\"Beautiful 4-bedroom, 3-bathroom home in the sought-after Oakwood neighborhood. This home features an open floor plan with a spacious living room, a gourmet kitchen with a breakfast bar, and a formal dining room. The master suite includes a walk-in closet and a luxurious bathroom. The backyard is perfect for entertaining, with a patio and a fire pit. This home offers style and comfort in a desirable location.\",\"Oakwood is a vibrant neighborhood known for its community spirit and excellent schools. The area offers a variety of recreational activities, including sports leagues and community events. Oakwood is conveniently located near shopping centers and restaurants, providing residents with easy access to amenities while maintaining a suburban feel.\"\\nCedar Grove,\\'375,000\\',3,2,\\'1,500\\',\"Cozy 3-bedroom, 2-bathroom home in the charming Cedar Grove neighborhood. This home features a welcoming living room with a fireplace, a modern kitchen with stainless steel appliances, and a dining area with a bay window. The master bedroom offers a peaceful retreat with an en-suite bathroom. The backyard is perfect for relaxing, with a deck and a garden. This home is ideal for first-time buyers or those looking to downsize.\",\"Cedar Grove is a friendly neighborhood known for its tree-lined streets and community parks. The area offers a variety of recreational activities, including hiking trails and sports leagues. Cedar Grove is conveniently located near shopping and dining options, providing residents with a perfect blend of rural charm and urban convenience.\"\\nPine Valley,\\'1,100,000\\',5,4,\\'3,700\\',\"Luxurious 5-bedroom, 4-bathroom home in the prestigious Pine Valley neighborhood. This home features a grand entrance, a formal living room with a fireplace, and a gourmet kitchen with high-end appliances. The master suite includes a spa-like bathroom and a private balcony. The backyard is an entertainer\\'s dream, with a pool, spa, and outdoor kitchen. This home offers elegance and sophistication in a prime location.\",\"Pine Valley is an upscale neighborhood known for its stunning views and luxurious homes. The area is home to top-rated schools and offers a variety of cultural and recreational activities. Residents enjoy easy access to hiking trails, golf courses, and fine dining. Pine Valley is a sought-after community for those seeking a high-end lifestyle.\"\\nElmwood,\\'480,000\\',3,2,\\'1,700\\',\"Charming 3-bedroom, 2-bathroom home in the desirable Elmwood neighborhood. This home features a cozy living room with a fireplace, a modern kitchen with granite countertops, and a dining area with a bay window. The master bedroom offers a peaceful retreat with an en-suite bathroom. The backyard is perfect for relaxing, with a deck and a garden. This home is ideal for first-time buyers or those looking to downsize.\",\"Elmwood is a friendly neighborhood known for its tree-lined streets and community parks. The area offers a variety of recreational activities, including hiking trails and sports leagues. Elmwood is conveniently located near shopping and dining options, providing residents with a perfect blend of rural charm and urban convenience.\"\\nSilver Lake,\\'2,000,000\\',6,5,\\'5,000\\',\"Welcome to this breathtaking 6-bedroom, 5-bathroom estate in the exclusive Silver Lake community. This home features a grand entrance, a formal living room with a fireplace, and a state-of-the-art kitchen with a large island. The master suite is a luxurious retreat with a private balcony and a spa-like bathroom. Enjoy the home theater, wine cellar, and expansive outdoor living space with a pool and lake views. This home is the epitome of luxury and elegance!\",\"Silver Lake is an exclusive community known for its stunning lake views and luxurious homes. Residents enjoy a private clubhouse, tennis courts, and a golf course. The neighborhood is gated, offering privacy and security, and is located near upscale shopping and dining options. Silver Lake is a prestigious address for those seeking a sophisticated lifestyle.\"' additional_kwargs={'refusal': None} response_metadata={'token_usage': {'completion_tokens': 1989, 'prompt_tokens': 569, 'total_tokens': 2558, 'completion_tokens_details': {'accepted_prediction_tokens': 0, 'audio_tokens': 0, 'reasoning_tokens': 0, 'rejected_prediction_tokens': 0}, 'prompt_tokens_details': {'audio_tokens': 0, 'cached_tokens': 0}}, 'model_name': 'gpt-4o-2024-08-06', 'system_fingerprint': 'fp_83df987f64', 'id': 'chatcmpl-BF6E9Zn4blAJ06AhV30DPvXScH8yf', 'finish_reason': 'stop', 'logprobs': None} id='run-88da6063-5fc5-4afa-ba63-a4af8a1bfc36-0' usage_metadata={'input_tokens': 569, 'output_tokens': 1989, 'total_tokens': 2558, 'input_token_details': {'audio': 0, 'cache_read': 0}, 'output_token_details': {'audio': 0, 'reasoning': 0}}\n"
     ]
    }
   ],
   "source": [
    "\n",
    "home_rows = 12\n",
    "\n",
    "total_rows = home_rows + 1\n",
    "\n",
    "result = chain.invoke(\n",
    "    {\"home_rows\": home_rows,\n",
    "     \"total_rows\": total_rows}\n",
    ")\n",
    "print(result)"
   ]
  },
  {
   "cell_type": "code",
   "execution_count": 47,
   "id": "37982984",
   "metadata": {},
   "outputs": [],
   "source": [
    "with open(\"home_listings.csv\", \"w\") as file:\n",
    "    content = result.content\n",
    "    # Simple extraction between markers\n",
    "    if \"```csv\" in content and \"```\" in content:\n",
    "        start = content.find(\"```csv\") + 6  # Skip past \"```csv\"\n",
    "        end = content.rfind(\"```\")\n",
    "        csv_content = content[start:end].strip()\n",
    "        file.write(csv_content)\n",
    "    else:\n",
    "        file.write(content)"
   ]
  },
  {
   "cell_type": "code",
   "execution_count": null,
   "id": "95b1e1f7",
   "metadata": {},
   "outputs": [],
   "source": []
  },
  {
   "cell_type": "code",
   "execution_count": null,
   "id": "8ad116e1",
   "metadata": {},
   "outputs": [],
   "source": []
  }
 ],
 "metadata": {
  "kernelspec": {
   "display_name": "ml-ud-cd13303-genai-realtor",
   "language": "python",
   "name": "python3"
  },
  "language_info": {
   "codemirror_mode": {
    "name": "ipython",
    "version": 3
   },
   "file_extension": ".py",
   "mimetype": "text/x-python",
   "name": "python",
   "nbconvert_exporter": "python",
   "pygments_lexer": "ipython3",
   "version": "3.11.11"
  }
 },
 "nbformat": 4,
 "nbformat_minor": 5
}
